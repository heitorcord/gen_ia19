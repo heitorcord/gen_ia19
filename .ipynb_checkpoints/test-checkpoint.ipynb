{
 "cells": [
  {
   "cell_type": "code",
   "execution_count": 16,
   "metadata": {},
   "outputs": [],
   "source": [
    "import re, string, unicodedata, itertools, random, os, glob, math\n",
    "import pickle\n",
    "\n",
    "import numpy as np\n",
    "import pandas as pd"
   ]
  },
  {
   "cell_type": "code",
   "execution_count": 26,
   "metadata": {},
   "outputs": [],
   "source": [
    "def geraIndividuo(tamCromossomo):\n",
    "    cromossomo = []\n",
    "    while tamCromossomo > 0:\n",
    "        cromossomo.append(random.randint(0,1))\n",
    "        tamCromossomo -= 1\n",
    "    return cromossomo"
   ]
  },
  {
   "cell_type": "code",
   "execution_count": 31,
   "metadata": {},
   "outputs": [],
   "source": [
    "def geraPopulacao(tamPop, tamCromossomo):\n",
    "    populacao = []\n",
    "    while tamPop > 0:\n",
    "        populacao.append(geraIndividuo(tamCromossomo))\n",
    "        tamPop -= 1\n",
    "    return populacao"
   ]
  },
  {
   "cell_type": "code",
   "execution_count": 77,
   "metadata": {},
   "outputs": [],
   "source": [
    "#argumentos: recebe array binario do cromossomo (geraPopulacao[i])\n",
    "#retorna: o valor real x e y do cromossomo\n",
    "\n",
    "def cromossomoReal(cromossomo):\n",
    "    x = 0\n",
    "    y = 0\n",
    "    i = 0\n",
    "    while(i < len(cromossomo)/2):\n",
    "        x += cromossomo[i] * pow(2, len(cromossomo)/2-i-1)\n",
    "        i += 1\n",
    "    while(i < len(cromossomo)):\n",
    "        y += cromossomo[i] * pow(2, len(cromossomo)-i-1)\n",
    "        i += 1\n",
    "    return [x,y]"
   ]
  },
  {
   "cell_type": "code",
   "execution_count": 78,
   "metadata": {},
   "outputs": [],
   "source": [
    "#argumentos: recebe um valor real e o tamanho do cromossomo (len(geraPopulacao[i]))\n",
    "#retorna: o valor real x e y do cromossomo dentro do intervalo da funcao\n",
    "\n",
    "def valorNoIntervalo(a, cromossomoLength):\n",
    "    a = -5.12 + (10 / (pow(2,cromossomoLength / 2) - 1) * a)\n",
    "    return a"
   ]
  },
  {
   "cell_type": "code",
   "execution_count": 90,
   "metadata": {},
   "outputs": [],
   "source": [
    "#argumentos: recebe dois valores reais (cromossomoReal()) e o tamanho do cromossomo (len(geraPopulacao[i]))\n",
    "#retorna: o valor real fitness do individuo\n",
    "\n",
    "def fitness(x, y, cromossomoLength):\n",
    "    x = valorNoIntervalo(x, cromossomoLength)\n",
    "    y = valorNoIntervalo(y, cromossomoLength)\n",
    "    cosx = math.cos(2 * math.pi * x)\n",
    "    cosy = math.cos(2 * math.pi * y)\n",
    "    return 20 + pow(x,2) + pow(y,2) - 10*(cosx+cosy)"
   ]
  },
  {
   "cell_type": "code",
   "execution_count": 99,
   "metadata": {},
   "outputs": [],
   "source": [
    "#argumentos: a populacao toda\n",
    "#retorna: o cromossomo de um individuo\n",
    "\n",
    "def roleta(populacao):\n",
    "    fitnessAcumulado = []\n",
    "    fitnessTotal = 0\n",
    "    i = 0\n",
    "    \n",
    "    while(i < len(populacao)):\n",
    "        valorReal = cromossomoReal(populacao[i])\n",
    "        fitnessAtual = fitness(valorReal[0], valorReal[1], len(populacao[i]))\n",
    "        fitnessTotal += fitnessAtual\n",
    "        fitnessAcumulado.append(fitnessTotal)\n",
    "        i += 1\n",
    "    \n",
    "    selecionar = random.random()*fitnessTotal\n",
    "    print(selecionar)\n",
    "    \n",
    "    i = 0\n",
    "    while(i < len(populacao)):\n",
    "        if(fitnessAcumulado[i] >= selecionar):\n",
    "            return populacao[i]\n",
    "        else:\n",
    "            i += 1"
   ]
  },
  {
   "cell_type": "code",
   "execution_count": 103,
   "metadata": {},
   "outputs": [
    {
     "name": "stdout",
     "output_type": "stream",
     "text": [
      "262.42363892790434\n",
      "[1, 1, 1, 0, 1, 0, 1, 0]\n"
     ]
    }
   ],
   "source": [
    "pop = geraPopulacao(10, 8)\n",
    "print(roleta(pop))"
   ]
  },
  {
   "cell_type": "code",
   "execution_count": null,
   "metadata": {},
   "outputs": [],
   "source": []
  }
 ],
 "metadata": {
  "kernelspec": {
   "display_name": "Python 3",
   "language": "python",
   "name": "python3"
  },
  "language_info": {
   "codemirror_mode": {
    "name": "ipython",
    "version": 3
   },
   "file_extension": ".py",
   "mimetype": "text/x-python",
   "name": "python",
   "nbconvert_exporter": "python",
   "pygments_lexer": "ipython3",
   "version": "3.6.4"
  }
 },
 "nbformat": 4,
 "nbformat_minor": 2
}
