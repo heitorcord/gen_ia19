{
 "cells": [
  {
   "cell_type": "code",
   "execution_count": 103,
   "metadata": {},
   "outputs": [],
   "source": [
    "import random, math"
   ]
  },
  {
   "cell_type": "code",
   "execution_count": 104,
   "metadata": {},
   "outputs": [],
   "source": [
    "def geraIndividuo(tamCromossomo):\n",
    "    \n",
    "    cromossomo = []\n",
    "    \n",
    "    while tamCromossomo > 0:\n",
    "        cromossomo.append(random.randint(0,1))\n",
    "        tamCromossomo -= 1\n",
    "        \n",
    "    return cromossomo"
   ]
  },
  {
   "cell_type": "code",
   "execution_count": 105,
   "metadata": {},
   "outputs": [],
   "source": [
    "def geraPopulacao(tamPop, tamCromossomo):\n",
    "    \n",
    "    populacao = []\n",
    "    \n",
    "    while tamPop > 0:\n",
    "        populacao.append(geraIndividuo(tamCromossomo))\n",
    "        tamPop -= 1\n",
    "        \n",
    "    return populacao"
   ]
  },
  {
   "cell_type": "code",
   "execution_count": 106,
   "metadata": {},
   "outputs": [],
   "source": [
    "#argumentos: recebe array binario do cromossomo (geraPopulacao[i])\n",
    "#retorna: o valor real x e y do cromossomo\n",
    "\n",
    "def cromossomoReal(cromossomo):\n",
    "    \n",
    "    x = 0\n",
    "    y = 0\n",
    "    i = 0\n",
    "    \n",
    "    while(i < len(cromossomo)/2):\n",
    "        x += cromossomo[i] * pow(2, len(cromossomo)/2-i-1)\n",
    "        i += 1\n",
    "        \n",
    "    while(i < len(cromossomo)):\n",
    "        y += cromossomo[i] * pow(2, len(cromossomo)-i-1)\n",
    "        i += 1\n",
    "\n",
    "    return [x,y]"
   ]
  },
  {
   "cell_type": "code",
   "execution_count": 107,
   "metadata": {},
   "outputs": [],
   "source": [
    "#argumentos: recebe um valor real e o tamanho do cromossomo (len(geraPopulacao[i]))\n",
    "#retorna: o valor real x e y do cromossomo dentro do intervalo da funcao\n",
    "\n",
    "def valorNoIntervalo(a, cromossomoLength):\n",
    "    \n",
    "    a = -5.12 + (10.24 / (pow(2,cromossomoLength / 2) - 1) * a)\n",
    "    \n",
    "    return a"
   ]
  },
  {
   "cell_type": "code",
   "execution_count": 108,
   "metadata": {},
   "outputs": [],
   "source": [
    "#argumentos: recebe um cromossomo\n",
    "#retorna: o valor real fitness do individuo\n",
    "\n",
    "def fitness(cromossomo):\n",
    "    \n",
    "    valorReal = cromossomoReal(cromossomo)\n",
    "    x = valorNoIntervalo(valorReal[0], len(cromossomo))\n",
    "    y = valorNoIntervalo(valorReal[1], len(cromossomo))\n",
    "    cosx = math.cos(2 * math.pi * x)\n",
    "    cosy = math.cos(2 * math.pi * y)\n",
    "    \n",
    "    resultado = 1/(20 + pow(x,2) + pow(y,2) - 10*(cosx+cosy))\n",
    "    \n",
    "    return resultado"
   ]
  },
  {
   "cell_type": "code",
   "execution_count": 124,
   "metadata": {},
   "outputs": [],
   "source": [
    "#argumentos: a populacao toda\n",
    "#retorna: o cromossomo de um individuo\n",
    "\n",
    "def selecao(pop):\n",
    "    \n",
    "    fitnessAcumulado = []\n",
    "    fitnessTotal = 0\n",
    "    \n",
    "    for i in pop:\n",
    "        fitnessAtual = fitness(i)\n",
    "        fitnessTotal += fitnessAtual\n",
    "        fitnessAcumulado.append(fitnessTotal)\n",
    "    \n",
    "    selecionar = random.random()*fitnessTotal\n",
    "    \n",
    "    j = 0\n",
    "    while(j < len(pop)):\n",
    "        if(fitnessAcumulado[j] >= selecionar):\n",
    "            return pop[j]\n",
    "        else:\n",
    "            j += 1"
   ]
  },
  {
   "cell_type": "code",
   "execution_count": 110,
   "metadata": {},
   "outputs": [],
   "source": [
    "#argumentos: dois cromossomos (selecao(pop))\n",
    "#retorno: um array contendo dois cromossomos\n",
    "\n",
    "def crossover(pai, mae):\n",
    "    \n",
    "    ponto = random.randint(1,len(pai)-1)\n",
    "    i = 0\n",
    "    filhos = []\n",
    "    filhoUm = []\n",
    "    filhoDois = []\n",
    "    \n",
    "    while(i < len(pai)):\n",
    "        if(i < ponto):\n",
    "            filhoUm.append(pai[i])\n",
    "            filhoDois.append(mae[i])\n",
    "        else:\n",
    "            filhoUm.append(mae[i])\n",
    "            filhoDois.append(pai[i])\n",
    "        i += 1\n",
    "        \n",
    "    filhos.append(filhoUm)\n",
    "    filhos.append(filhoDois)\n",
    "    \n",
    "    return filhos"
   ]
  },
  {
   "cell_type": "code",
   "execution_count": 111,
   "metadata": {},
   "outputs": [],
   "source": [
    "def mutacao(cromossomo):\n",
    "    \n",
    "    r = random.randint(0,len(cromossomo)-1)\n",
    "    \n",
    "    if(cromossomo[r] == 1):\n",
    "        cromossomo[r] = 0\n",
    "    else:\n",
    "        cromossomo[r] = 1\n",
    "        \n",
    "    return cromossomo"
   ]
  },
  {
   "cell_type": "code",
   "execution_count": 112,
   "metadata": {},
   "outputs": [],
   "source": [
    "def novaGeracao(pop, chanceMutacao):\n",
    "    \n",
    "    novaPop = []\n",
    "    \n",
    "    while(len(novaPop) < len(pop)):\n",
    "        r = random.random()\n",
    "        \n",
    "        if(r <= chanceMutacao):\n",
    "            novaPop.append(mutacao(selecao(pop)))\n",
    "            \n",
    "        else:\n",
    "            filhos = crossover(selecao(pop), selecao(pop))\n",
    "            novaPop.append(filhos[0])\n",
    "            if(len(novaPop) < len(pop)):\n",
    "                novaPop.append(filhos[1])\n",
    "        \n",
    "    return novaPop"
   ]
  },
  {
   "cell_type": "code",
   "execution_count": 117,
   "metadata": {},
   "outputs": [],
   "source": [
    "def fitnessGeracao(pop):\n",
    "    \n",
    "    fitnessGeracao = 0\n",
    "    i = 0\n",
    "    \n",
    "    for i in pop:\n",
    "        fitnessGeracao += fitness(i)\n",
    "    \n",
    "    return fitnessGeracao/len(pop)"
   ]
  },
  {
   "cell_type": "code",
   "execution_count": 126,
   "metadata": {},
   "outputs": [],
   "source": [
    "def maiorFitness(pop):\n",
    "    \n",
    "    maior = 0\n",
    "    \n",
    "    for i in pop:\n",
    "        atual = fitness(pop[i])\n",
    "        \n",
    "        if(maior < atual):\n",
    "            maior = atual\n",
    "    \n",
    "    return maior"
   ]
  },
  {
   "cell_type": "code",
   "execution_count": 132,
   "metadata": {},
   "outputs": [],
   "source": [
    "def rodaGeracoes(numGen, tamPop, tamCromossomo, chanceMutacao, verbose):\n",
    "    \n",
    "    pop = geraPopulacao(tamPop, tamCromossomo)\n",
    "    i = 0\n",
    "    maior = 0\n",
    "    maiorCromossomo = []\n",
    "    maiorGen = 0\n",
    "    \n",
    "    while(i < numGen):\n",
    "        j = 0\n",
    "        while(j < len(pop)):\n",
    "            fitAtual = fitness(pop[j])\n",
    "            if(fitAtual > maior):\n",
    "                if(verbose == True): print(\"Novo maior fitness (gen\", i, ')', fitAtual, 'Antigo:', maior)\n",
    "                maior = fitAtual\n",
    "                maiorGen = i\n",
    "                maiorCromossomo = pop[j]\n",
    "            j += 1\n",
    "            \n",
    "        if(verbose == True): print('Gen', i, 'Melhor fitness:', maior, 'Fitness medio:', fitnessGeracao(pop))\n",
    "        pop = novaGeracao(pop, chanceMutacao)\n",
    "        i += 1"
   ]
  },
  {
   "cell_type": "code",
   "execution_count": 134,
   "metadata": {},
   "outputs": [
    {
     "name": "stdout",
     "output_type": "stream",
     "text": [
      "Novo maior fitness (gen 0 ) 0.021740252782971564 Antigo: 0\n",
      "Novo maior fitness (gen 0 ) 0.0310896532145737 Antigo: 0.021740252782971564\n",
      "Novo maior fitness (gen 0 ) 0.034407925832730536 Antigo: 0.0310896532145737\n",
      "Novo maior fitness (gen 0 ) 0.034474625368286285 Antigo: 0.034407925832730536\n",
      "Novo maior fitness (gen 0 ) 0.10082906097737213 Antigo: 0.034474625368286285\n",
      "Novo maior fitness (gen 0 ) 0.12323439860327852 Antigo: 0.10082906097737213\n",
      "Gen 0 Melhor fitness: 0.12323439860327852 Fitness medio: 0.03178904060646755\n",
      "Novo maior fitness (gen 1 ) 0.48500605032843047 Antigo: 0.12323439860327852\n",
      "Gen 1 Melhor fitness: 0.48500605032843047 Fitness medio: 0.046724856476514594\n",
      "Novo maior fitness (gen 2 ) 0.508575248981534 Antigo: 0.48500605032843047\n",
      "Gen 2 Melhor fitness: 0.508575248981534 Fitness medio: 0.06444155113308009\n",
      "Novo maior fitness (gen 3 ) 0.6617457286012561 Antigo: 0.508575248981534\n",
      "Gen 3 Melhor fitness: 0.6617457286012561 Fitness medio: 0.11376107988471101\n",
      "Novo maior fitness (gen 4 ) 0.814241529782482 Antigo: 0.6617457286012561\n",
      "Novo maior fitness (gen 4 ) 1.145520262909306 Antigo: 0.814241529782482\n",
      "Gen 4 Melhor fitness: 1.145520262909306 Fitness medio: 0.21037995158662173\n",
      "Novo maior fitness (gen 5 ) 1.665730703451636 Antigo: 1.145520262909306\n",
      "Gen 5 Melhor fitness: 1.665730703451636 Fitness medio: 0.294307915307163\n",
      "Novo maior fitness (gen 6 ) 20.13626886970559 Antigo: 1.665730703451636\n",
      "Novo maior fitness (gen 6 ) 100.62192245429401 Antigo: 20.13626886970559\n",
      "Gen 6 Melhor fitness: 100.62192245429401 Fitness medio: 1.6196050963113722\n",
      "Gen 7 Melhor fitness: 100.62192245429401 Fitness medio: 4.936776017823801\n",
      "Gen 8 Melhor fitness: 100.62192245429401 Fitness medio: 58.67268366277433\n",
      "Gen 9 Melhor fitness: 100.62192245429401 Fitness medio: 87.63977342817336\n",
      "Gen 10 Melhor fitness: 100.62192245429401 Fitness medio: 95.26756711714972\n",
      "Gen 11 Melhor fitness: 100.62192245429401 Fitness medio: 94.79205494515529\n",
      "Gen 12 Melhor fitness: 100.62192245429401 Fitness medio: 93.21571406229181\n",
      "Gen 13 Melhor fitness: 100.62192245429401 Fitness medio: 93.86809322002144\n",
      "Gen 14 Melhor fitness: 100.62192245429401 Fitness medio: 98.61860904428451\n",
      "Gen 15 Melhor fitness: 100.62192245429401 Fitness medio: 94.88993224407153\n",
      "Gen 16 Melhor fitness: 100.62192245429401 Fitness medio: 93.90874414765241\n",
      "Gen 17 Melhor fitness: 100.62192245429401 Fitness medio: 96.65427225361358\n",
      "Gen 18 Melhor fitness: 100.62192245429401 Fitness medio: 96.60716487937418\n",
      "Gen 19 Melhor fitness: 100.62192245429401 Fitness medio: 94.66822577904907\n",
      "Gen 20 Melhor fitness: 100.62192245429401 Fitness medio: 96.8257351273241\n",
      "Gen 21 Melhor fitness: 100.62192245429401 Fitness medio: 92.88320439664669\n",
      "Gen 22 Melhor fitness: 100.62192245429401 Fitness medio: 97.80725278755685\n",
      "Gen 23 Melhor fitness: 100.62192245429401 Fitness medio: 94.09153865907884\n",
      "Gen 24 Melhor fitness: 100.62192245429401 Fitness medio: 92.67951454789491\n",
      "Gen 25 Melhor fitness: 100.62192245429401 Fitness medio: 98.81286666792998\n",
      "Gen 26 Melhor fitness: 100.62192245429401 Fitness medio: 98.20735284675634\n",
      "Gen 27 Melhor fitness: 100.62192245429401 Fitness medio: 97.67736947359576\n",
      "Gen 28 Melhor fitness: 100.62192245429401 Fitness medio: 89.0199090191779\n",
      "Gen 29 Melhor fitness: 100.62192245429401 Fitness medio: 94.96650215784778\n",
      "Gen 30 Melhor fitness: 100.62192245429401 Fitness medio: 89.91613026423771\n",
      "Gen 31 Melhor fitness: 100.62192245429401 Fitness medio: 94.61809935203843\n",
      "Gen 32 Melhor fitness: 100.62192245429401 Fitness medio: 93.80893651668727\n",
      "Gen 33 Melhor fitness: 100.62192245429401 Fitness medio: 93.96230290732964\n",
      "Gen 34 Melhor fitness: 100.62192245429401 Fitness medio: 98.81119235963756\n",
      "Gen 35 Melhor fitness: 100.62192245429401 Fitness medio: 90.86994956358176\n",
      "Gen 36 Melhor fitness: 100.62192245429401 Fitness medio: 95.12552942019946\n",
      "Gen 37 Melhor fitness: 100.62192245429401 Fitness medio: 94.76577792866811\n",
      "Gen 38 Melhor fitness: 100.62192245429401 Fitness medio: 90.99698597707881\n",
      "Gen 39 Melhor fitness: 100.62192245429401 Fitness medio: 95.06178284309341\n"
     ]
    }
   ],
   "source": [
    "rodaGeracoes(40, 100, 20, 0.1, True)"
   ]
  },
  {
   "cell_type": "code",
   "execution_count": null,
   "metadata": {},
   "outputs": [],
   "source": [
    "cr = (0, 1, 1, 0, 0, 1, 1, 0, 1, 0, 0, 1, 0, 0, 1, 1, 0, 1, 1, 1)\n",
    "valorReal = cromossomoReal(cr)\n",
    "x = valorNoIntervalo(valorReal[0], len(cr))\n",
    "y = valorNoIntervalo(valorReal[1], len(cr))\n",
    "print(valorReal, x, y)\n",
    "print(fitness(cr))"
   ]
  },
  {
   "cell_type": "code",
   "execution_count": null,
   "metadata": {},
   "outputs": [],
   "source": []
  }
 ],
 "metadata": {
  "kernelspec": {
   "display_name": "Python 3",
   "language": "python",
   "name": "python3"
  },
  "language_info": {
   "codemirror_mode": {
    "name": "ipython",
    "version": 3
   },
   "file_extension": ".py",
   "mimetype": "text/x-python",
   "name": "python",
   "nbconvert_exporter": "python",
   "pygments_lexer": "ipython3",
   "version": "3.6.4"
  }
 },
 "nbformat": 4,
 "nbformat_minor": 2
}
