{
 "cells": [
  {
   "cell_type": "code",
   "execution_count": 16,
   "metadata": {},
   "outputs": [],
   "source": [
    "import re, string, unicodedata, itertools, random, os, glob, math\n",
    "import pickle\n",
    "\n",
    "import numpy as np\n",
    "import pandas as pd"
   ]
  },
  {
   "cell_type": "code",
   "execution_count": 26,
   "metadata": {},
   "outputs": [],
   "source": [
    "def geraIndividuo(tamCromossomo):\n",
    "    cromossomo = []\n",
    "    while tamCromossomo > 0:\n",
    "        cromossomo.append(random.randint(0,1))\n",
    "        tamCromossomo -= 1\n",
    "    return cromossomo"
   ]
  },
  {
   "cell_type": "code",
   "execution_count": 31,
   "metadata": {},
   "outputs": [],
   "source": [
    "def geraPopulacao(tamPop, tamCromossomo):\n",
    "    populacao = []\n",
    "    while tamPop > 0:\n",
    "        populacao.append(geraIndividuo(tamCromossomo))\n",
    "        tamPop -= 1\n",
    "    return populacao"
   ]
  },
  {
   "cell_type": "code",
   "execution_count": 77,
   "metadata": {},
   "outputs": [],
   "source": [
    "#argumentos: recebe array binario do cromossomo (geraPopulacao[i])\n",
    "def cromossomoReal(cromossomo):\n",
    "    x = 0\n",
    "    y = 0\n",
    "    i = 0\n",
    "    while(i < len(cromossomo)/2):\n",
    "        x += cromossomo[i] * pow(2, len(cromossomo)/2-i-1)\n",
    "        i += 1\n",
    "    while(i < len(cromossomo)):\n",
    "        y += cromossomo[i] * pow(2, len(cromossomo)-i-1)\n",
    "        i += 1\n",
    "    return [x,y]"
   ]
  },
  {
   "cell_type": "code",
   "execution_count": 78,
   "metadata": {},
   "outputs": [],
   "source": [
    "#argumentos: recebe um valor real e o tamanho do cromossomo (len(geraPopulacao[i]))\n",
    "def valorNoIntervalo(a, cromossomoLength):\n",
    "    a = -5.12 + (10 / (pow(2,cromossomoLength / 2) - 1) * a)\n",
    "    return a"
   ]
  },
  {
   "cell_type": "code",
   "execution_count": 79,
   "metadata": {},
   "outputs": [],
   "source": [
    "#argumentos: recebe dois valores reais (cromossomoReal()) e o tamanho do cromossomo (len(geraPopulacao[i]))\n",
    "def fitness(x, y, cromossomoLength):\n",
    "    x = valorNoIntervalo(x, cromossomoLength)\n",
    "    y = valorNoIntervalo(y, cromossomoLength)\n",
    "    print(x, y)\n",
    "    cosx = math.cos(2 * math.pi * x)\n",
    "    cosy = math.cos(2 * math.pi * y)\n",
    "    return 20 + pow(x,2) + pow(y,2) - 10*(cosx+cosy)"
   ]
  },
  {
   "cell_type": "code",
   "execution_count": 80,
   "metadata": {},
   "outputs": [
    {
     "name": "stdout",
     "output_type": "stream",
     "text": [
      "[1, 0, 1, 0, 1, 1, 1, 0] [10.0, 14]\n",
      "1.546666666666666 4.213333333333332\n",
      "fitness: 47.434041829769576\n",
      "[0, 1, 1, 1, 0, 0, 0, 1] [7.0, 1]\n",
      "-0.45333333333333403 -4.453333333333333\n",
      "fitness: 59.184078839530244\n",
      "[1, 0, 1, 0, 1, 0, 0, 0] [10.0, 8]\n",
      "1.546666666666666 0.21333333333333293\n",
      "fitness: 29.72737516310299\n",
      "[0, 0, 0, 1, 1, 1, 0, 1] [1.0, 13]\n",
      "-4.453333333333333 3.546666666666666\n",
      "fitness: 71.55741217286356\n",
      "[1, 1, 0, 1, 1, 0, 1, 0] [13.0, 10]\n",
      "3.546666666666666 1.546666666666666\n",
      "fitness: 54.117412172863595\n",
      "[1, 0, 1, 0, 1, 1, 0, 1] [10.0, 13]\n",
      "1.546666666666666 3.546666666666666\n",
      "fitness: 54.117412172863595\n",
      "[1, 0, 1, 0, 1, 0, 1, 0] [10.0, 10]\n",
      "1.546666666666666 1.546666666666666\n",
      "fitness: 43.93074550619692\n",
      "[1, 1, 1, 1, 0, 0, 1, 0] [15.0, 2]\n",
      "4.88 -3.786666666666667\n",
      "fitness: 48.58004946912377\n",
      "[0, 0, 1, 0, 0, 0, 0, 1] [2.0, 1]\n",
      "-3.786666666666667 -4.453333333333333\n",
      "fitness: 61.460708496436325\n",
      "[0, 0, 1, 1, 0, 1, 1, 1] [3.0, 7]\n",
      "-3.12 -0.45333333333333403\n",
      "fitness: 32.22341981221767\n"
     ]
    }
   ],
   "source": [
    "pop = geraPopulacao(10, 8)\n",
    "i = 0\n",
    "while(i < len(pop)):\n",
    "    valorReal = cromossomoReal(pop[i])\n",
    "    print(pop[i],valorReal,sep=' ')\n",
    "    print('fitness:',fitness(valorReal[0], valorReal[1], len(pop[i])))\n",
    "    i += 1"
   ]
  },
  {
   "cell_type": "code",
   "execution_count": null,
   "metadata": {},
   "outputs": [],
   "source": []
  },
  {
   "cell_type": "code",
   "execution_count": null,
   "metadata": {},
   "outputs": [],
   "source": []
  }
 ],
 "metadata": {
  "kernelspec": {
   "display_name": "Python 3",
   "language": "python",
   "name": "python3"
  },
  "language_info": {
   "codemirror_mode": {
    "name": "ipython",
    "version": 3
   },
   "file_extension": ".py",
   "mimetype": "text/x-python",
   "name": "python",
   "nbconvert_exporter": "python",
   "pygments_lexer": "ipython3",
   "version": "3.6.4"
  }
 },
 "nbformat": 4,
 "nbformat_minor": 2
}
