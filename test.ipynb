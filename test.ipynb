{
 "cells": [
  {
   "cell_type": "code",
   "execution_count": 208,
   "metadata": {},
   "outputs": [],
   "source": [
    "import random, math\n",
    "import matplotlib.pyplot as plt\n",
    "from matplotlib.collections import EventCollection"
   ]
  },
  {
   "cell_type": "code",
   "execution_count": 137,
   "metadata": {},
   "outputs": [],
   "source": [
    "def geraIndividuo(tamCromossomo):\n",
    "    \n",
    "    cromossomo = []\n",
    "    \n",
    "    while tamCromossomo > 0:\n",
    "        cromossomo.append(random.randint(0,1))\n",
    "        tamCromossomo -= 1\n",
    "        \n",
    "    return cromossomo"
   ]
  },
  {
   "cell_type": "code",
   "execution_count": 156,
   "metadata": {},
   "outputs": [],
   "source": [
    "def geraPopulacao(tamPop, tamCromossomo):\n",
    "    \n",
    "    populacao = []\n",
    "    \n",
    "    while tamPop > 0:\n",
    "        populacao.append(geraIndividuo(tamCromossomo))\n",
    "        tamPop -= 1\n",
    "\n",
    "    return populacao"
   ]
  },
  {
   "cell_type": "code",
   "execution_count": 139,
   "metadata": {},
   "outputs": [],
   "source": [
    "#argumentos: recebe array binario do cromossomo (geraPopulacao[i])\n",
    "#retorna: o valor real x e y do cromossomo\n",
    "\n",
    "def cromossomoReal(cromossomo):\n",
    "    \n",
    "    x = 0\n",
    "    y = 0\n",
    "    i = 0\n",
    "    \n",
    "    while(i < len(cromossomo)/2):\n",
    "        x += cromossomo[i] * pow(2, len(cromossomo)/2-i-1)\n",
    "        i += 1\n",
    "        \n",
    "    while(i < len(cromossomo)):\n",
    "        y += cromossomo[i] * pow(2, len(cromossomo)-i-1)\n",
    "        i += 1\n",
    "\n",
    "    return [x,y]"
   ]
  },
  {
   "cell_type": "code",
   "execution_count": 140,
   "metadata": {},
   "outputs": [],
   "source": [
    "#argumentos: recebe um valor real e o tamanho do cromossomo (len(geraPopulacao[i]))\n",
    "#retorna: o valor real x e y do cromossomo dentro do intervalo da funcao\n",
    "\n",
    "def valorNoIntervalo(a, cromossomoLength):\n",
    "    \n",
    "    a = -5.12 + (10.24 / (pow(2,cromossomoLength / 2) - 1) * a)\n",
    "    \n",
    "    return a"
   ]
  },
  {
   "cell_type": "code",
   "execution_count": 141,
   "metadata": {},
   "outputs": [],
   "source": [
    "#argumentos: recebe um cromossomo\n",
    "#retorna: o valor real fitness do individuo\n",
    "\n",
    "def fitness(cromossomo):\n",
    "    \n",
    "    valorReal = cromossomoReal(cromossomo)\n",
    "    x = valorNoIntervalo(valorReal[0], len(cromossomo))\n",
    "    y = valorNoIntervalo(valorReal[1], len(cromossomo))\n",
    "    cosx = math.cos(2 * math.pi * x)\n",
    "    cosy = math.cos(2 * math.pi * y)\n",
    "    \n",
    "    resultado = 1/(20 + pow(x,2) + pow(y,2) - 10*(cosx+cosy))\n",
    "    \n",
    "    return resultado"
   ]
  },
  {
   "cell_type": "code",
   "execution_count": 142,
   "metadata": {},
   "outputs": [],
   "source": [
    "#argumentos: a populacao toda\n",
    "#retorna: o cromossomo de um individuo\n",
    "\n",
    "def selecao(pop):\n",
    "    \n",
    "    fitnessAcumulado = []\n",
    "    fitnessTotal = 0\n",
    "    \n",
    "    for i in pop:\n",
    "        fitnessAtual = fitness(i)\n",
    "        fitnessTotal += fitnessAtual\n",
    "        fitnessAcumulado.append(fitnessTotal)\n",
    "    \n",
    "    selecionar = random.random()*fitnessTotal\n",
    "    \n",
    "    j = 0\n",
    "    while(j < len(pop)):\n",
    "        if(fitnessAcumulado[j] >= selecionar):\n",
    "            return pop[j]\n",
    "        else:\n",
    "            j += 1"
   ]
  },
  {
   "cell_type": "code",
   "execution_count": 143,
   "metadata": {},
   "outputs": [],
   "source": [
    "#argumentos: dois cromossomos (selecao(pop))\n",
    "#retorno: um array contendo dois cromossomos\n",
    "\n",
    "def crossover(pai, mae):\n",
    "    \n",
    "    ponto = random.randint(1,len(pai)-1)\n",
    "    i = 0\n",
    "    filhos = []\n",
    "    filhoUm = []\n",
    "    filhoDois = []\n",
    "    \n",
    "    while(i < len(pai)):\n",
    "        if(i < ponto):\n",
    "            filhoUm.append(pai[i])\n",
    "            filhoDois.append(mae[i])\n",
    "        else:\n",
    "            filhoUm.append(mae[i])\n",
    "            filhoDois.append(pai[i])\n",
    "        i += 1\n",
    "        \n",
    "    filhos.append(filhoUm)\n",
    "    filhos.append(filhoDois)\n",
    "    \n",
    "    return filhos"
   ]
  },
  {
   "cell_type": "code",
   "execution_count": 160,
   "metadata": {},
   "outputs": [],
   "source": [
    "#argumentos: um cromossomo\n",
    "#retorno: um cromossomo \n",
    "\n",
    "def mutacao(cromossomo):\n",
    "    \n",
    "    r = random.randint(0,len(cromossomo)-1)\n",
    "    \n",
    "    if(cromossomo[r] == 1):\n",
    "        cromossomo[r] = 0\n",
    "    else:\n",
    "        cromossomo[r] = 1\n",
    "        \n",
    "    return cromossomo"
   ]
  },
  {
   "cell_type": "code",
   "execution_count": 145,
   "metadata": {},
   "outputs": [],
   "source": [
    "#argumentos: recebe uma populacao e a chance de mutacao\n",
    "#retorno: uma nova populacao\n",
    "\n",
    "def novaGeracao(pop, chanceMutacao):\n",
    "    \n",
    "    novaPop = []\n",
    "    \n",
    "    while(len(novaPop) < len(pop)):\n",
    "        r = random.random()\n",
    "        \n",
    "        if(r <= chanceMutacao):\n",
    "            novaPop.append(mutacao(selecao(pop)))\n",
    "            \n",
    "        else:\n",
    "            filhos = crossover(selecao(pop), selecao(pop))\n",
    "            novaPop.append(filhos[0])\n",
    "            if(len(novaPop) < len(pop)):\n",
    "                novaPop.append(filhos[1])\n",
    "        \n",
    "    return novaPop"
   ]
  },
  {
   "cell_type": "code",
   "execution_count": 146,
   "metadata": {},
   "outputs": [],
   "source": [
    "#argumentos: recebe uma populacao\n",
    "#retorno: o fitness medio dessa populacao\n",
    "\n",
    "def fitnessGeracao(pop):\n",
    "    \n",
    "    fitnessGeracao = 0\n",
    "    i = 0\n",
    "    \n",
    "    for i in pop:\n",
    "        fitnessGeracao += fitness(i)\n",
    "    \n",
    "    return fitnessGeracao/len(pop)"
   ]
  },
  {
   "cell_type": "code",
   "execution_count": 147,
   "metadata": {},
   "outputs": [],
   "source": [
    "#argumentos: receve uma populacao\n",
    "#retorno: o maior fitness obtido nessa populacao\n",
    "\n",
    "def maiorFitness(pop):\n",
    "    \n",
    "    maior = 0\n",
    "    \n",
    "    for i in pop:\n",
    "        atual = fitness(pop[i])\n",
    "        \n",
    "        if(maior < atual):\n",
    "            maior = atual\n",
    "    \n",
    "    return maior"
   ]
  },
  {
   "cell_type": "code",
   "execution_count": 243,
   "metadata": {},
   "outputs": [],
   "source": [
    "#argumentos: recebe o numero de geracoes a serem rodadas, o tamanho da populacao, o tamanho do cromossomo (numero par),\n",
    "#a chance de mutacao (decimal) e prints sobre o status da execucao (True ou False)\n",
    "#retorno: \n",
    "\n",
    "def rodaGeracoes(numGen, tamPop, tamCromossomo, chanceMutacao, verbose):\n",
    "    \n",
    "    resultado = []\n",
    "    \n",
    "    pop = geraPopulacao(tamPop, tamCromossomo)\n",
    "    i = 0\n",
    "    melhor = 0\n",
    "    maiorCromossomo = []\n",
    "    maiorGen = 0\n",
    "    \n",
    "    while(i < numGen):\n",
    "        j = 0\n",
    "        for j in pop:\n",
    "            fitAtual = fitness(j)\n",
    "            if(fitAtual > melhor):\n",
    "                if(verbose == True): print(\"Novo maior fitness (gen\", i, ')', fitAtual, 'Antigo:', melhor)\n",
    "                melhor = fitAtual\n",
    "                maiorGen = i\n",
    "                maiorCromossomo = j\n",
    "        \n",
    "        medio = fitnessGeracao(pop)\n",
    "        resultAux = [melhor, medio]\n",
    "        resultado.append(resultAux)\n",
    "        \n",
    "        if(verbose == True): print('Gen', i, 'Melhor fitness:', melhor, 'Fitness medio:', medio)\n",
    "        pop = novaGeracao(pop, chanceMutacao)\n",
    "        i += 1\n",
    "        \n",
    "    return resultado"
   ]
  },
  {
   "cell_type": "code",
   "execution_count": 277,
   "metadata": {},
   "outputs": [],
   "source": [
    "def plotarGrafico(geracoes):\n",
    "\n",
    "    x = []\n",
    "    y_melhor = []\n",
    "    y_medio = []\n",
    "\n",
    "    i = 0\n",
    "    while(i < len(geracoes)):\n",
    "        x.append(i)\n",
    "        y_melhor.append(geracoes[i][0])\n",
    "        y_medio.append(geracoes[i][1])\n",
    "        i += 1\n",
    "\n",
    "    l = plt.plot(x, y_melhor, 'r.:', x, y_medio, 'k.:')\n",
    "    \n",
    "    ax.set_xlim([0, len(geracoes)])\n",
    "    ax.set_ylim([0, 100])\n",
    "    \n",
    "    plt.ylabel('Fitness')\n",
    "    plt.xlabel('Geracao')\n",
    "\n",
    "    plt.show()"
   ]
  },
  {
   "cell_type": "code",
   "execution_count": 280,
   "metadata": {},
   "outputs": [
    {
     "name": "stdout",
     "output_type": "stream",
     "text": [
      "Novo maior fitness (gen 0 ) 0.016531723107411165 Antigo: 0\n",
      "Novo maior fitness (gen 0 ) 0.02708974955448736 Antigo: 0.016531723107411165\n",
      "Novo maior fitness (gen 0 ) 0.0590088537663874 Antigo: 0.02708974955448736\n",
      "Novo maior fitness (gen 0 ) 0.10971598284336688 Antigo: 0.0590088537663874\n",
      "Novo maior fitness (gen 0 ) 0.20591299360637894 Antigo: 0.10971598284336688\n",
      "Gen 0 Melhor fitness: 0.20591299360637894 Fitness medio: 0.034503836364462075\n",
      "Novo maior fitness (gen 1 ) 0.42749495961406386 Antigo: 0.20591299360637894\n",
      "Gen 1 Melhor fitness: 0.42749495961406386 Fitness medio: 0.05489723628737041\n",
      "Novo maior fitness (gen 2 ) 0.4850664462339119 Antigo: 0.42749495961406386\n",
      "Gen 2 Melhor fitness: 0.4850664462339119 Fitness medio: 0.09232360384388467\n",
      "Novo maior fitness (gen 3 ) 0.5198626690068454 Antigo: 0.4850664462339119\n",
      "Gen 3 Melhor fitness: 0.5198626690068454 Fitness medio: 0.14807795900327972\n",
      "Novo maior fitness (gen 4 ) 0.6886103685321152 Antigo: 0.5198626690068454\n",
      "Novo maior fitness (gen 4 ) 0.7500828874216924 Antigo: 0.6886103685321152\n",
      "Novo maior fitness (gen 4 ) 0.7634615350098541 Antigo: 0.7500828874216924\n",
      "Gen 4 Melhor fitness: 0.7634615350098541 Fitness medio: 0.21923388379356434\n",
      "Novo maior fitness (gen 5 ) 0.9333761913154258 Antigo: 0.7634615350098541\n",
      "Novo maior fitness (gen 5 ) 1.6657307034515867 Antigo: 0.9333761913154258\n",
      "Gen 5 Melhor fitness: 1.6657307034515867 Fitness medio: 0.27217639511677594\n",
      "Gen 6 Melhor fitness: 1.6657307034515867 Fitness medio: 0.3168657079761059\n",
      "Novo maior fitness (gen 7 ) 7.75480960330468 Antigo: 1.6657307034515867\n",
      "Gen 7 Melhor fitness: 7.75480960330468 Fitness medio: 0.44804575592189877\n",
      "Gen 8 Melhor fitness: 7.75480960330468 Fitness medio: 1.5215278810267614\n",
      "Novo maior fitness (gen 9 ) 20.13626886970559 Antigo: 7.75480960330468\n",
      "Gen 9 Melhor fitness: 20.13626886970559 Fitness medio: 4.713578269611217\n"
     ]
    },
    {
     "data": {
      "image/png": "[encoded data removed]",
      "text/plain": [
       "<Figure size 432x288 with 1 Axes>"
      ]
     },
     "metadata": {},
     "output_type": "display_data"
    }
   ],
   "source": [
    "geracoes = rodaGeracoes(10, 100, 20, 0.1, True)\n",
    "plotarGrafico(geracoes)"
   ]
  }
 ],
 "metadata": {
  "kernelspec": {
   "display_name": "Python 3",
   "language": "python",
   "name": "python3"
  },
  "language_info": {
   "codemirror_mode": {
    "name": "ipython",
    "version": 3
   },
   "file_extension": ".py",
   "mimetype": "text/x-python",
   "name": "python",
   "nbconvert_exporter": "python",
   "pygments_lexer": "ipython3",
   "version": "3.6.4"
  }
 },
 "nbformat": 4,
 "nbformat_minor": 2
}
