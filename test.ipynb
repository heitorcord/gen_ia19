{
 "cells": [
  {
   "cell_type": "code",
   "execution_count": 16,
   "metadata": {},
   "outputs": [],
   "source": [
    "import re, string, unicodedata, itertools, random, os, glob, math\n",
    "import pickle\n",
    "\n",
    "import numpy as np\n",
    "import pandas as pd"
   ]
  },
  {
   "cell_type": "code",
   "execution_count": 26,
   "metadata": {},
   "outputs": [],
   "source": [
    "def geraIndividuo(tamCromossomo):\n",
    "    cromossomo = []\n",
    "    while tamCromossomo > 0:\n",
    "        cromossomo.append(random.randint(0,1))\n",
    "        tamCromossomo -= 1\n",
    "    return cromossomo"
   ]
  },
  {
   "cell_type": "code",
   "execution_count": 31,
   "metadata": {},
   "outputs": [],
   "source": [
    "def geraPopulacao(tamPop, tamCromossomo):\n",
    "    populacao = []\n",
    "    while tamPop > 0:\n",
    "        populacao.append(geraIndividuo(tamCromossomo))\n",
    "        tamPop -= 1\n",
    "    return populacao"
   ]
  },
  {
   "cell_type": "code",
   "execution_count": 37,
   "metadata": {},
   "outputs": [],
   "source": [
    "def fitness(x, y):\n",
    "    cosx = math.cos(2 * math.pi * x)\n",
    "    cosy = math.cos(2 * math.pi * y)\n",
    "    return 20 + pow(x,2) + pow(y,2) - 10*(cosx+cosy)"
   ]
  },
  {
   "cell_type": "code",
   "execution_count": 42,
   "metadata": {},
   "outputs": [],
   "source": [
    "def cromossomoReal(cromossomo):\n",
    "    x = 0\n",
    "    y = 0\n",
    "    i = 0\n",
    "    while(i < len(cromossomo)/2):\n",
    "        x += cromossomo[i] * pow(2, len(cromossomo)/2-i-1)\n",
    "        i += 1\n",
    "    while(i < len(cromossomo)):\n",
    "        y += cromossomo[i] * pow(2, len(cromossomo)-i-1)\n",
    "        i += 1\n",
    "    return [x,y]"
   ]
  },
  {
   "cell_type": "code",
   "execution_count": 54,
   "metadata": {},
   "outputs": [
    {
     "name": "stdout",
     "output_type": "stream",
     "text": [
      "[1, 1, 0, 0, 0, 1, 1, 0] [12.0, 6]\n",
      "180.0\n",
      "[0, 0, 0, 0, 0, 0, 0, 1] [0.0, 1]\n",
      "1.0\n",
      "[1, 0, 0, 1, 0, 1, 0, 0] [9.0, 4]\n",
      "97.0\n",
      "[0, 1, 0, 0, 1, 0, 1, 0] [4.0, 10]\n",
      "116.0\n",
      "[1, 0, 0, 1, 1, 0, 0, 1] [9.0, 9]\n",
      "162.0\n",
      "[1, 0, 0, 1, 1, 1, 1, 0] [9.0, 14]\n",
      "277.0\n",
      "[0, 1, 0, 0, 1, 0, 0, 1] [4.0, 9]\n",
      "97.0\n",
      "[1, 1, 1, 0, 1, 1, 1, 1] [14.0, 15]\n",
      "421.0\n",
      "[0, 0, 0, 0, 0, 0, 1, 0] [0.0, 2]\n",
      "4.0\n",
      "[1, 0, 0, 1, 1, 0, 1, 1] [9.0, 11]\n",
      "202.0\n"
     ]
    }
   ],
   "source": [
    "pop = geraPopulacao(10, 8)\n",
    "i = 0\n",
    "while(i < len(pop)):\n",
    "    valorReal = cromossomoReal(pop[i])\n",
    "    print(pop[i],valorReal,sep=' ')\n",
    "    print(fitness(valorReal[0], valorReal[1]))\n",
    "    i += 1"
   ]
  },
  {
   "cell_type": "code",
   "execution_count": null,
   "metadata": {},
   "outputs": [],
   "source": []
  },
  {
   "cell_type": "code",
   "execution_count": null,
   "metadata": {},
   "outputs": [],
   "source": []
  }
 ],
 "metadata": {
  "kernelspec": {
   "display_name": "Python 3",
   "language": "python",
   "name": "python3"
  },
  "language_info": {
   "codemirror_mode": {
    "name": "ipython",
    "version": 3
   },
   "file_extension": ".py",
   "mimetype": "text/x-python",
   "name": "python",
   "nbconvert_exporter": "python",
   "pygments_lexer": "ipython3",
   "version": "3.6.4"
  }
 },
 "nbformat": 4,
 "nbformat_minor": 2
}
