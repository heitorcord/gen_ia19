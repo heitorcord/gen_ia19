{
 "cells": [
  {
   "cell_type": "code",
   "execution_count": 1,
   "metadata": {},
   "outputs": [],
   "source": [
    "import re, string, unicodedata, itertools, random, os, glob, math\n",
    "import pickle\n",
    "\n",
    "import numpy as np\n",
    "import pandas as pd"
   ]
  },
  {
   "cell_type": "code",
   "execution_count": 2,
   "metadata": {},
   "outputs": [],
   "source": [
    "def geraIndividuo(tamCromossomo):\n",
    "    \n",
    "    cromossomo = []\n",
    "    \n",
    "    while tamCromossomo > 0:\n",
    "        cromossomo.append(random.randint(0,1))\n",
    "        tamCromossomo -= 1\n",
    "        \n",
    "    return cromossomo"
   ]
  },
  {
   "cell_type": "code",
   "execution_count": 3,
   "metadata": {},
   "outputs": [],
   "source": [
    "def geraPopulacao(tamPop, tamCromossomo):\n",
    "    \n",
    "    populacao = []\n",
    "    \n",
    "    while tamPop > 0:\n",
    "        populacao.append(geraIndividuo(tamCromossomo))\n",
    "        tamPop -= 1\n",
    "        \n",
    "    return populacao"
   ]
  },
  {
   "cell_type": "code",
   "execution_count": 4,
   "metadata": {},
   "outputs": [],
   "source": [
    "#argumentos: recebe array binario do cromossomo (geraPopulacao[i])\n",
    "#retorna: o valor real x e y do cromossomo\n",
    "\n",
    "def cromossomoReal(cromossomo):\n",
    "    \n",
    "    x = 0\n",
    "    y = 0\n",
    "    i = 0\n",
    "    \n",
    "    while(i < len(cromossomo)/2):\n",
    "        x += cromossomo[i] * pow(2, len(cromossomo)/2-i-1)\n",
    "        i += 1\n",
    "        \n",
    "    while(i < len(cromossomo)):\n",
    "        y += cromossomo[i] * pow(2, len(cromossomo)-i-1)\n",
    "        i += 1\n",
    "\n",
    "    return [x,y]"
   ]
  },
  {
   "cell_type": "code",
   "execution_count": 5,
   "metadata": {},
   "outputs": [],
   "source": [
    "#argumentos: recebe um valor real e o tamanho do cromossomo (len(geraPopulacao[i]))\n",
    "#retorna: o valor real x e y do cromossomo dentro do intervalo da funcao\n",
    "\n",
    "def valorNoIntervalo(a, cromossomoLength):\n",
    "    \n",
    "    a = -5.12 + (10.24 / (pow(2,cromossomoLength / 2) - 1) * a)\n",
    "    \n",
    "    return a"
   ]
  },
  {
   "cell_type": "code",
   "execution_count": 15,
   "metadata": {},
   "outputs": [],
   "source": [
    "#argumentos: recebe um cromossomo\n",
    "#retorna: o valor real fitness do individuo\n",
    "\n",
    "def fitness(cromossomo):\n",
    "    \n",
    "    valorReal = cromossomoReal(cromossomo)\n",
    "    x = valorNoIntervalo(valorReal[0], len(cromossomo))\n",
    "    y = valorNoIntervalo(valorReal[1], len(cromossomo))\n",
    "    cosx = math.cos(2 * math.pi * x)\n",
    "    cosy = math.cos(2 * math.pi * y)\n",
    "    \n",
    "    if(20 + pow(x,2) + pow(y,2) - 10*(cosx+cosy) == 0):\n",
    "        resultado = 0\n",
    "    else:\n",
    "        resultado = 1/(20 + pow(x,2) + pow(y,2) - 10*(cosx+cosy))\n",
    "    \n",
    "    return resultado"
   ]
  },
  {
   "cell_type": "code",
   "execution_count": 7,
   "metadata": {},
   "outputs": [],
   "source": [
    "#argumentos: a populacao toda\n",
    "#retorna: o cromossomo de um individuo\n",
    "\n",
    "def selecao(populacao):\n",
    "    \n",
    "    fitnessAcumulado = []\n",
    "    fitnessTotal = 0\n",
    "    i = 0\n",
    "    \n",
    "    while(i < len(populacao)):\n",
    "        \n",
    "        fitnessAtual = fitness(populacao[i])\n",
    "        fitnessTotal += fitnessAtual\n",
    "        fitnessAcumulado.append(fitnessTotal)\n",
    "        i += 1\n",
    "    \n",
    "    selecionar = random.random()*fitnessTotal\n",
    "    \n",
    "    i = 0\n",
    "    while(i < len(populacao)):\n",
    "        if(fitnessAcumulado[i] >= selecionar):\n",
    "            return populacao[i]\n",
    "        else:\n",
    "            i += 1"
   ]
  },
  {
   "cell_type": "code",
   "execution_count": 8,
   "metadata": {},
   "outputs": [],
   "source": [
    "#argumentos: dois cromossomos (selecao(pop))\n",
    "#retorno: um array contendo dois cromossomos\n",
    "\n",
    "def crossover(pai, mae):\n",
    "    \n",
    "    ponto = random.randint(1,len(pai)-1)\n",
    "    i = 0\n",
    "    filhos = []\n",
    "    filhoUm = []\n",
    "    filhoDois = []\n",
    "    \n",
    "    while(i < len(pai)):\n",
    "        if(i < ponto):\n",
    "            filhoUm.append(pai[i])\n",
    "            filhoDois.append(mae[i])\n",
    "        else:\n",
    "            filhoUm.append(mae[i])\n",
    "            filhoDois.append(pai[i])\n",
    "        i += 1\n",
    "        \n",
    "    filhos.append(filhoUm)\n",
    "    filhos.append(filhoDois)\n",
    "    \n",
    "    return filhos"
   ]
  },
  {
   "cell_type": "code",
   "execution_count": 9,
   "metadata": {},
   "outputs": [],
   "source": [
    "def novaGeracao(pop):\n",
    "    \n",
    "    novaPop = []\n",
    "    \n",
    "    while(len(novaPop) < len(pop)):\n",
    "        filhos = crossover(selecao(pop), selecao(pop))\n",
    "        novaPop.append(filhos[0])\n",
    "        novaPop.append(filhos[1])\n",
    "        \n",
    "    return novaPop"
   ]
  },
  {
   "cell_type": "code",
   "execution_count": 10,
   "metadata": {},
   "outputs": [],
   "source": [
    "def fitnessGeracao(pop):\n",
    "    \n",
    "    fitnessGeracao = 0\n",
    "    i = 0\n",
    "    \n",
    "    while(i < len(pop)):\n",
    "        fitnessGeracao += fitness(pop[i])\n",
    "        i += 1\n",
    "    \n",
    "    return fitnessGeracao"
   ]
  },
  {
   "cell_type": "code",
   "execution_count": null,
   "metadata": {},
   "outputs": [],
   "source": []
  },
  {
   "cell_type": "code",
   "execution_count": 13,
   "metadata": {},
   "outputs": [
    {
     "name": "stdout",
     "output_type": "stream",
     "text": [
      "Novo maior fitness: 5.5700925203087275 Antigo: 0\n",
      "Novo maior fitness: 19.837600819457823 Antigo: 5.5700925203087275\n",
      "Novo maior fitness: 28.482344497651184 Antigo: 19.837600819457823\n",
      "Gen 0 Fitness total: 354.30663750753536\n",
      "Gen 1 Fitness total: 578.5051534131272\n",
      "Gen 2 Fitness total: 1123.7366461095185\n",
      "Gen 3 Fitness total: 1808.8347328571404\n",
      "Gen 4 Fitness total: 2283.5569857415426\n",
      "Gen 5 Fitness total: 2451.153706661238\n",
      "Gen 6 Fitness total: 3139.4919886730936\n",
      "Gen 7 Fitness total: 7960.072713609675\n",
      "Gen 8 Fitness total: 208751.19473946095\n",
      "Gen 9 Fitness total: 497144.5417767616\n",
      "Gen 10 Fitness total: 759768.0699233082\n",
      "Gen 11 Fitness total: 1212238.7189507233\n",
      "Gen 12 Fitness total: 2059381.3233339912\n",
      "Gen 13 Fitness total: 2420015.3657839913\n",
      "Gen 14 Fitness total: 2747785.7019449784\n",
      "Gen 15 Fitness total: 3181022.7655324275\n",
      "Gen 16 Fitness total: 3877499.01159381\n",
      "Gen 17 Fitness total: 4813378.769856723\n",
      "Gen 18 Fitness total: 5936472.856000402\n",
      "Gen 19 Fitness total: 7940000.6524655\n",
      "Gen 20 Fitness total: 11587419.462676292\n",
      "Gen 21 Fitness total: 16072942.86426876\n",
      "Gen 22 Fitness total: 20204995.36948613\n",
      "Gen 23 Fitness total: 22686317.688830692\n",
      "Gen 24 Fitness total: 23954603.161319286\n",
      "Gen 25 Fitness total: 24771436.583910305\n",
      "Gen 26 Fitness total: 24825528.65791855\n",
      "Gen 27 Fitness total: 24844203.249803763\n",
      "Gen 28 Fitness total: 25310202.17833959\n",
      "Gen 29 Fitness total: 25235503.81079877\n",
      "Gen 30 Fitness total: 25198154.627028365\n",
      "Gen 31 Fitness total: 25067432.48383194\n",
      "Gen 32 Fitness total: 25086107.075717147\n",
      "Gen 33 Fitness total: 24992734.116291124\n",
      "Gen 34 Fitness total: 24992734.116291124\n",
      "Gen 35 Fitness total: 25067432.483831935\n",
      "Gen 36 Fitness total: 24862011.973094687\n",
      "Gen 37 Fitness total: 24843337.381209493\n",
      "Gen 38 Fitness total: 24768639.01366868\n",
      "Gen 39 Fitness total: 24712615.238013063\n",
      "Geracao 0 Cromossomo [1, 0, 0, 0, 0, 0, 0, 0, 0, 0, 0, 0, 0, 0, 1, 1, 0, 1, 1, 1, 1, 1, 1, 1, 1, 1, 1, 1, 0, 1, 1, 1] Fitness 28.482344497651184\n"
     ]
    }
   ],
   "source": [
    "pop = geraPopulacao(100, 32)\n",
    "i = 0\n",
    "j = 0\n",
    "maior = 0\n",
    "maiorGen = 0\n",
    "while(j < 40):\n",
    "    while(i < len(pop)):\n",
    "        fitAtual = fitness(pop[i])\n",
    "        if(fitAtual > maior):\n",
    "            print(\"Novo maior fitness:\", fitAtual, 'Antigo:', maior)\n",
    "            maior = fitAtual\n",
    "            maiorGen = j\n",
    "        i += 1\n",
    "    print('Gen', j, 'Fitness total:', fitnessGeracao(pop))\n",
    "    pop = novaGeracao(pop)\n",
    "    j += 1\n",
    "    \n",
    "print('Geracao', maiorGen, 'Cromossomo', pop[i-1], 'Fitness', maior)"
   ]
  },
  {
   "cell_type": "code",
   "execution_count": 16,
   "metadata": {},
   "outputs": [
    {
     "name": "stdout",
     "output_type": "stream",
     "text": [
      "[32771.0, 32759] 0.0005468833447777044 -0.0013281452658882031\n",
      "2443.2496359735032\n"
     ]
    }
   ],
   "source": [
    "cr = (1, 0, 0, 0, 0, 0, 0, 0, 0, 0, 0, 0, 0, 0, 1, 1, 0, 1, 1, 1, 1, 1, 1, 1, 1, 1, 1, 1, 0, 1, 1, 1)\n",
    "valorReal = cromossomoReal(cr)\n",
    "x = valorNoIntervalo(valorReal[0], len(cr))\n",
    "y = valorNoIntervalo(valorReal[1], len(cr))\n",
    "print(valorReal, x, y)\n",
    "print(fitness(cr))"
   ]
  },
  {
   "cell_type": "code",
   "execution_count": null,
   "metadata": {},
   "outputs": [],
   "source": []
  }
 ],
 "metadata": {
  "kernelspec": {
   "display_name": "Python 3",
   "language": "python",
   "name": "python3"
  },
  "language_info": {
   "codemirror_mode": {
    "name": "ipython",
    "version": 3
   },
   "file_extension": ".py",
   "mimetype": "text/x-python",
   "name": "python",
   "nbconvert_exporter": "python",
   "pygments_lexer": "ipython3",
   "version": "3.6.4"
  }
 },
 "nbformat": 4,
 "nbformat_minor": 2
}
